{
 "cells": [
  {
   "cell_type": "markdown",
   "metadata": {},
   "source": [
    " How do you use Python to create lag features for time-series data sets."
   ]
  },
  {
   "cell_type": "code",
   "execution_count": 1,
   "metadata": {},
   "outputs": [
    {
     "name": "stdout",
     "output_type": "stream",
     "text": [
      "            Temperature  Temperature_Lag1  Temperature_Lag2\n",
      "Date                                                       \n",
      "2023-01-01           30               NaN               NaN\n",
      "2023-01-02           32              30.0               NaN\n",
      "2023-01-03           35              32.0              30.0\n",
      "2023-01-04           33              35.0              32.0\n",
      "2023-01-05           31              33.0              35.0\n",
      "2023-01-06           30              31.0              33.0\n",
      "2023-01-07           28              30.0              31.0\n",
      "2023-01-08           27              28.0              30.0\n",
      "2023-01-09           25              27.0              28.0\n",
      "2023-01-10           24              25.0              27.0\n"
     ]
    }
   ],
   "source": [
    "import pandas as pd\n",
    "import numpy as np\n",
    "\n",
    "# Sample time-series data: Daily temperatures (for example)\n",
    "data = {\n",
    "    'Date': pd.date_range(start='2023-01-01', periods=10, freq='D'),\n",
    "    'Temperature': [30, 32, 35, 33, 31, 30, 28, 27, 25, 24]\n",
    "}\n",
    "\n",
    "df = pd.DataFrame(data)\n",
    "\n",
    "# Set 'Date' as the index\n",
    "df.set_index('Date', inplace=True)\n",
    "\n",
    "# Create lag features\n",
    "# For example, create a 1-day lag and 2-day lag\n",
    "df['Temperature_Lag1'] = df['Temperature'].shift(1)  # 1-day lag\n",
    "df['Temperature_Lag2'] = df['Temperature'].shift(2)  # 2-day lag\n",
    "\n",
    "# Display the dataset with lag features\n",
    "print(df)\n"
   ]
  }
 ],
 "metadata": {
  "kernelspec": {
   "display_name": "Python 3",
   "language": "python",
   "name": "python3"
  },
  "language_info": {
   "codemirror_mode": {
    "name": "ipython",
    "version": 3
   },
   "file_extension": ".py",
   "mimetype": "text/x-python",
   "name": "python",
   "nbconvert_exporter": "python",
   "pygments_lexer": "ipython3",
   "version": "3.13.1"
  }
 },
 "nbformat": 4,
 "nbformat_minor": 2
}
