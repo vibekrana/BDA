{
 "cells": [
  {
   "cell_type": "markdown",
   "metadata": {},
   "source": [
    "How can you handle missing values in a dataset using Python\n"
   ]
  },
  {
   "cell_type": "code",
   "execution_count": 3,
   "metadata": {},
   "outputs": [
    {
     "name": "stdout",
     "output_type": "stream",
     "text": [
      "video_id                   0\n",
      "trending_date              0\n",
      "title                      0\n",
      "channel_title              0\n",
      "category_id                0\n",
      "publish_time               0\n",
      "tags                       0\n",
      "views                      0\n",
      "likes                      0\n",
      "dislikes                   0\n",
      "comment_count              0\n",
      "thumbnail_link             0\n",
      "comments_disabled          0\n",
      "ratings_disabled           0\n",
      "video_error_or_removed     0\n",
      "description               55\n",
      "Genre                      0\n",
      "dtype: int64\n",
      "Shape after dropping rows: (4945, 17)\n",
      "Shape after filling with 0: (5000, 17)\n",
      "Shape after filling with mean: (5000, 17)\n",
      "Shape after forward fill: (5000, 17)\n",
      "Shape after backward fill: (5000, 17)\n"
     ]
    },
    {
     "name": "stderr",
     "output_type": "stream",
     "text": [
      "C:\\Users\\Lenovo\\AppData\\Local\\Temp\\ipykernel_9368\\743754951.py:16: FutureWarning: DataFrame.fillna with 'method' is deprecated and will raise in a future version. Use obj.ffill() or obj.bfill() instead.\n",
      "  df_filled_ffill = df.fillna(method='ffill')\n",
      "C:\\Users\\Lenovo\\AppData\\Local\\Temp\\ipykernel_9368\\743754951.py:18: FutureWarning: DataFrame.fillna with 'method' is deprecated and will raise in a future version. Use obj.ffill() or obj.bfill() instead.\n",
      "  df_filled_bfill = df.fillna(method='bfill')\n"
     ]
    }
   ],
   "source": [
    "import pandas as pd\n",
    "\n",
    "url = \"https://raw.githubusercontent.com/singhrau0/Big-Data-Preprocessing/refs/heads/main/youtubesample.csv\"\n",
    "df = pd.read_csv(url)\n",
    "\n",
    "missing_values = df.isnull().sum()\n",
    "\n",
    "df_dropped = df.dropna()\n",
    "\n",
    "df_filled_0 = df.fillna(0)\n",
    "\n",
    "numeric_df = df.select_dtypes(include=['number'])  \n",
    "df_filled_mean = df.copy() \n",
    "df_filled_mean[numeric_df.columns] = numeric_df.fillna(numeric_df.mean())  \n",
    "\n",
    "df_filled_ffill = df.fillna(method='ffill')\n",
    "\n",
    "df_filled_bfill = df.fillna(method='bfill')\n",
    "\n",
    "print(missing_values)\n",
    "print(\"Shape after dropping rows:\", df_dropped.shape)\n",
    "print(\"Shape after filling with 0:\", df_filled_0.shape)\n",
    "print(\"Shape after filling with mean:\", df_filled_mean.shape)\n",
    "print(\"Shape after forward fill:\", df_filled_ffill.shape)\n",
    "print(\"Shape after backward fill:\", df_filled_bfill.shape)"
   ]
  },
  {
   "cell_type": "code",
   "execution_count": null,
   "metadata": {},
   "outputs": [],
   "source": []
  }
 ],
 "metadata": {
  "kernelspec": {
   "display_name": "Python 3",
   "language": "python",
   "name": "python3"
  },
  "language_info": {
   "codemirror_mode": {
    "name": "ipython",
    "version": 3
   },
   "file_extension": ".py",
   "mimetype": "text/x-python",
   "name": "python",
   "nbconvert_exporter": "python",
   "pygments_lexer": "ipython3",
   "version": "3.13.1"
  }
 },
 "nbformat": 4,
 "nbformat_minor": 2
}
